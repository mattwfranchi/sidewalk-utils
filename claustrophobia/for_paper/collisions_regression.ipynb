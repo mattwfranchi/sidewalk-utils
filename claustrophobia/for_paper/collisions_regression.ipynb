{
 "cells": [
  {
   "cell_type": "code",
   "execution_count": 1,
   "id": "74fc238e",
   "metadata": {},
   "outputs": [],
   "source": [
    "import geopandas as gpd \n",
    "import pandas as pd "
   ]
  },
  {
   "cell_type": "code",
   "execution_count": 2,
   "id": "80121196",
   "metadata": {},
   "outputs": [],
   "source": [
    "sidewalks_nyc = gpd.read_parquet('/share/ju/sidewalk_utils/data/nyc/claustrophobia/nyc_sidewalks_claustrophobia.parquet')"
   ]
  },
  {
   "cell_type": "code",
   "execution_count": 3,
   "id": "f82a40b6",
   "metadata": {},
   "outputs": [],
   "source": [
    "collisions_nyc = pd.read_csv('/share/ju/sidewalk_utils/data/nyc/Motor_Vehicle_Collisions_-_Crashes_20240915.csv', engine='pyarrow')"
   ]
  },
  {
   "cell_type": "code",
   "execution_count": 4,
   "id": "954ab8f0",
   "metadata": {},
   "outputs": [],
   "source": [
    "# drop na latitude and longitude\n",
    "collisions_nyc = collisions_nyc.dropna(subset=['LATITUDE', 'LONGITUDE'])"
   ]
  },
  {
   "cell_type": "code",
   "execution_count": 5,
   "id": "f5847101",
   "metadata": {},
   "outputs": [],
   "source": [
    "collisions_nyc = gpd.GeoDataFrame(\n",
    "    collisions_nyc, \n",
    "    geometry=gpd.points_from_xy(collisions_nyc['LONGITUDE'], collisions_nyc['LATITUDE']),\n",
    "    crs='EPSG:4326'\n",
    ").to_crs('EPSG:2263')"
   ]
  },
  {
   "cell_type": "code",
   "execution_count": 6,
   "id": "e82a648a",
   "metadata": {},
   "outputs": [],
   "source": [
    "# spatial join collisions with sidewalks\n",
    "collisions_with_sidewalks = gpd.sjoin_nearest(\n",
    "    collisions_nyc, \n",
    "    sidewalks_nyc, \n",
    "    how='left', \n",
    "    max_distance=50,  # Adjust as needed\n",
    "    distance_col='distance_to_sidewalk'\n",
    ")"
   ]
  },
  {
   "cell_type": "code",
   "execution_count": 7,
   "id": "da0fd258",
   "metadata": {},
   "outputs": [],
   "source": [
    "# drop rows with na distance_to_sidewalk\n",
    "collisions_with_sidewalks = collisions_with_sidewalks.dropna(subset=['distance_to_sidewalk'])"
   ]
  },
  {
   "cell_type": "code",
   "execution_count": 8,
   "id": "1ee25f7e",
   "metadata": {},
   "outputs": [
    {
     "data": {
      "text/plain": [
       "Index(['CRASH DATE', 'CRASH TIME', 'BOROUGH', 'ZIP CODE', 'LATITUDE',\n",
       "       'LONGITUDE', 'LOCATION', 'ON STREET NAME', 'CROSS STREET NAME',\n",
       "       'OFF STREET NAME', 'NUMBER OF PERSONS INJURED',\n",
       "       'NUMBER OF PERSONS KILLED', 'NUMBER OF PEDESTRIANS INJURED',\n",
       "       'NUMBER OF PEDESTRIANS KILLED', 'NUMBER OF CYCLIST INJURED',\n",
       "       'NUMBER OF CYCLIST KILLED', 'NUMBER OF MOTORIST INJURED',\n",
       "       'NUMBER OF MOTORIST KILLED', 'CONTRIBUTING FACTOR VEHICLE 1',\n",
       "       'CONTRIBUTING FACTOR VEHICLE 2', 'CONTRIBUTING FACTOR VEHICLE 3',\n",
       "       'CONTRIBUTING FACTOR VEHICLE 4', 'CONTRIBUTING FACTOR VEHICLE 5',\n",
       "       'COLLISION_ID', 'VEHICLE TYPE CODE 1', 'VEHICLE TYPE CODE 2',\n",
       "       'VEHICLE TYPE CODE 3', 'VEHICLE TYPE CODE 4', 'VEHICLE TYPE CODE 5',\n",
       "       'geometry'],\n",
       "      dtype='object')"
      ]
     },
     "execution_count": 8,
     "metadata": {},
     "output_type": "execute_result"
    }
   ],
   "source": [
    "collisions_nyc.columns"
   ]
  },
  {
   "cell_type": "code",
   "execution_count": 9,
   "id": "9bd8df77",
   "metadata": {},
   "outputs": [],
   "source": [
    "# count the number of collisions per sidewalk, the number of persons injured per sidewalk, and the number of persons killed per sidewalk\n",
    "collisions_per_sidewalk = collisions_with_sidewalks.groupby('index_right').agg(\n",
    "    total_collisions=('CRASH DATE', 'count'),\n",
    "    total_persons_injured=('NUMBER OF PERSONS INJURED', 'sum'),\n",
    "    total_persons_killed=('NUMBER OF PERSONS KILLED', 'sum')\n",
    ").reset_index()\n"
   ]
  },
  {
   "cell_type": "code",
   "execution_count": 10,
   "id": "69a55b41",
   "metadata": {},
   "outputs": [],
   "source": [
    "# merge the counts with the sidewalks GeoDataFrame\n",
    "del collisions_with_sidewalks\n",
    "\n",
    "sidewalks_nyc = sidewalks_nyc.merge(\n",
    "    collisions_per_sidewalk, \n",
    "    left_index=True, \n",
    "    right_on='index_right', \n",
    "    how='left'\n",
    ").fillna({\n",
    "    'total_collisions': 0,\n",
    "    'total_persons_injured': 0,\n",
    "    'total_persons_killed': 0\n",
    "}).reset_index(drop=True)\n"
   ]
  },
  {
   "cell_type": "code",
   "execution_count": 11,
   "id": "4f3b1389",
   "metadata": {},
   "outputs": [],
   "source": [
    "# drop rows with missing claustrophobia_95th or claustrohpobia_median\n",
    "sidewalks_nyc = sidewalks_nyc.dropna(subset=['claustrophobia_95th', 'claustrophobia_median'])"
   ]
  },
  {
   "cell_type": "code",
   "execution_count": 13,
   "id": "b7b4956c",
   "metadata": {},
   "outputs": [],
   "source": [
    "# scale the claustrophobia metrics to a 0-100 range\n",
    "sidewalks_nyc['claustrophobia_95th'] *= 100 \n",
    "sidewalks_nyc['claustrophobia_median'] *= 100"
   ]
  },
  {
   "cell_type": "code",
   "execution_count": 14,
   "id": "e19ef67c",
   "metadata": {},
   "outputs": [
    {
     "name": "stdout",
     "output_type": "stream",
     "text": [
      "                              OLS Regression Results                             \n",
      "=================================================================================\n",
      "Dep. Variable:     claustrophobia_median   R-squared:                       0.002\n",
      "Model:                               OLS   Adj. R-squared:                  0.002\n",
      "Method:                    Least Squares   F-statistic:                     641.3\n",
      "Date:                   Tue, 03 Jun 2025   Prob (F-statistic):               0.00\n",
      "Time:                           14:32:07   Log-Likelihood:            -4.7214e+06\n",
      "No. Observations:                1017120   AIC:                         9.443e+06\n",
      "Df Residuals:                    1017116   BIC:                         9.443e+06\n",
      "Df Model:                              3                                         \n",
      "Covariance Type:               nonrobust                                         \n",
      "=========================================================================================\n",
      "                            coef    std err          t      P>|t|      [0.025      0.975]\n",
      "-----------------------------------------------------------------------------------------\n",
      "const                     7.4938      0.025    297.712      0.000       7.444       7.543\n",
      "total_collisions          0.1670      0.005     36.439      0.000       0.158       0.176\n",
      "total_persons_injured    -0.3068      0.013    -23.079      0.000      -0.333      -0.281\n",
      "total_persons_killed      1.4128      0.454      3.113      0.002       0.523       2.302\n",
      "==============================================================================\n",
      "Omnibus:                  1177759.599   Durbin-Watson:                   0.798\n",
      "Prob(Omnibus):                  0.000   Jarque-Bera (JB):        107333647.237\n",
      "Skew:                           6.252   Prob(JB):                         0.00\n",
      "Kurtosis:                      51.747   Cond. No.                         247.\n",
      "==============================================================================\n",
      "\n",
      "Notes:\n",
      "[1] Standard Errors assume that the covariance matrix of the errors is correctly specified.\n"
     ]
    }
   ],
   "source": [
    "# regress claustrophobia on the number of collisions, persons injured, and persons killed\n",
    "import statsmodels.api as sm\n",
    "X = sidewalks_nyc[['total_collisions', 'total_persons_injured', 'total_persons_killed']]\n",
    "X = sm.add_constant(X)  # Adds a constant term to the predictor\n",
    "y = sidewalks_nyc['claustrophobia_median']\n",
    "\n",
    "model = sm.OLS(y, X).fit()\n",
    "print(model.summary())"
   ]
  },
  {
   "cell_type": "code",
   "execution_count": 15,
   "id": "1ab8d0c8",
   "metadata": {},
   "outputs": [
    {
     "name": "stderr",
     "output_type": "stream",
     "text": [
      "/share/ju/matt/conda/rapids-25.02/lib/python3.12/site-packages/spaghetti/network.py:41: FutureWarning: The next major release of pysal/spaghetti (2.0.0) will drop support for all ``libpysal.cg`` geometries. This change is a first step in refactoring ``spaghetti`` that is expected to result in dramatically reduced runtimes for network instantiation and operations. Users currently requiring network and point pattern input as ``libpysal.cg`` geometries should prepare for this simply by converting to ``shapely`` geometries.\n",
      "  warnings.warn(dep_msg, FutureWarning, stacklevel=1)\n",
      "/share/ju/matt/conda/rapids-25.02/lib/python3.12/site-packages/tqdm/auto.py:21: TqdmWarning: IProgress not found. Please update jupyter and ipywidgets. See https://ipywidgets.readthedocs.io/en/stable/user_install.html\n",
      "  from .autonotebook import tqdm as notebook_tqdm\n"
     ]
    }
   ],
   "source": [
    "from pysal.model import spreg \n",
    "from pysal.lib import weights \n",
    "from pysal.explore import esda \n",
    "from scipy import stats \n",
    "import statsmodels.formula.api as sm"
   ]
  },
  {
   "cell_type": "code",
   "execution_count": 16,
   "id": "41682a53",
   "metadata": {},
   "outputs": [
    {
     "name": "stderr",
     "output_type": "stream",
     "text": [
      "/share/ju/matt/conda/rapids-25.02/lib/python3.12/site-packages/libpysal/weights/distance.py:153: UserWarning: The weights matrix is not fully connected: \n",
      " There are 708 disconnected components.\n",
      "  W.__init__(self, neighbors, id_order=ids, **kwargs)\n"
     ]
    },
    {
     "data": {
      "text/plain": [
       "<libpysal.weights.distance.KNN at 0x7f6a618e9a30>"
      ]
     },
     "execution_count": 16,
     "metadata": {},
     "output_type": "execute_result"
    }
   ],
   "source": [
    "explanatory_vars = ['claustrophobia_median']\n",
    "dep_vars = ['total_collisions']\n",
    "\n",
    "data = sidewalks_nyc[explanatory_vars + dep_vars + ['geometry']].copy()\n",
    "\n",
    "w = weights.KNN.from_dataframe(data, k=8)\n",
    "w.transform = 'R'\n",
    "w"
   ]
  },
  {
   "cell_type": "code",
   "execution_count": 29,
   "id": "84b2af19",
   "metadata": {},
   "outputs": [],
   "source": [
    "m1 = spreg.OLS(data[explanatory_vars].values, data[dep_vars].values, name_y=dep_vars, name_x=explanatory_vars, w=w)"
   ]
  },
  {
   "cell_type": "code",
   "execution_count": 30,
   "id": "fc84c411",
   "metadata": {},
   "outputs": [
    {
     "name": "stdout",
     "output_type": "stream",
     "text": [
      "REGRESSION RESULTS\n",
      "------------------\n",
      "\n",
      "SUMMARY OF OUTPUT: ORDINARY LEAST SQUARES\n",
      "-----------------------------------------\n",
      "Data set            :     unknown\n",
      "Weights matrix      :     unknown\n",
      "Dependent Variable  :['total_collisions']                Number of Observations:     1017120\n",
      "Mean dependent var  :      7.6388                Number of Variables   :           2\n",
      "S.D. dependent var  :     25.1269                Degrees of Freedom    :     1017118\n",
      "R-squared           :      0.0014\n",
      "Adjusted R-squared  :      0.0014\n",
      "Sum squared residual: 6.41295e+08                F-statistic           :   1390.3942\n",
      "Sigma-square        :     630.502                Prob(F-statistic)     :  4.133e-304\n",
      "S.E. of regression  :      25.110                Log likelihood        :-4721670.145\n",
      "Sigma-square ML     :     630.501                Akaike info criterion : 9443344.289\n",
      "S.E of regression ML:     25.1098                Schwarz criterion     : 9443367.954\n",
      "\n",
      "------------------------------------------------------------------------------------\n",
      "            Variable     Coefficient       Std.Error     t-Statistic     Probability\n",
      "------------------------------------------------------------------------------------\n",
      "            CONSTANT         7.49945         0.02518       297.87528         0.00000\n",
      "claustrophobia_median         0.07277         0.00195        37.28799         0.00000\n",
      "------------------------------------------------------------------------------------\n",
      "\n",
      "REGRESSION DIAGNOSTICS\n",
      "MULTICOLLINEARITY CONDITION NUMBER           1.161\n",
      "\n",
      "TEST ON NORMALITY OF ERRORS\n",
      "TEST                             DF        VALUE           PROB\n",
      "Jarque-Bera                       2  107234722.277           0.0000\n",
      "\n",
      "DIAGNOSTICS FOR HETEROSKEDASTICITY\n",
      "RANDOM COEFFICIENTS\n",
      "TEST                             DF        VALUE           PROB\n",
      "Breusch-Pagan test                1       3178.212           0.0000\n",
      "Koenker-Bassett test              1        125.316           0.0000\n",
      "================================ END OF REPORT =====================================\n"
     ]
    }
   ],
   "source": [
    "print(m1.summary)"
   ]
  },
  {
   "cell_type": "code",
   "execution_count": 38,
   "id": "17147264",
   "metadata": {},
   "outputs": [],
   "source": [
    "lagged = data.assign(w_claustrophobia_median=weights.spatial_lag.lag_spatial(w, data['claustrophobia_median']))"
   ]
  },
  {
   "cell_type": "code",
   "execution_count": 39,
   "id": "11ae8a49",
   "metadata": {},
   "outputs": [
    {
     "data": {
      "text/html": [
       "<div>\n",
       "<style scoped>\n",
       "    .dataframe tbody tr th:only-of-type {\n",
       "        vertical-align: middle;\n",
       "    }\n",
       "\n",
       "    .dataframe tbody tr th {\n",
       "        vertical-align: top;\n",
       "    }\n",
       "\n",
       "    .dataframe thead th {\n",
       "        text-align: right;\n",
       "    }\n",
       "</style>\n",
       "<table border=\"1\" class=\"dataframe\">\n",
       "  <thead>\n",
       "    <tr style=\"text-align: right;\">\n",
       "      <th></th>\n",
       "      <th>claustrophobia_median</th>\n",
       "      <th>total_collisions</th>\n",
       "      <th>geometry</th>\n",
       "      <th>w_claustrophobia_median</th>\n",
       "    </tr>\n",
       "  </thead>\n",
       "  <tbody>\n",
       "    <tr>\n",
       "      <th>119</th>\n",
       "      <td>2.275649</td>\n",
       "      <td>0.0</td>\n",
       "      <td>POLYGON ((917337.741 121366.645, 917337.741 12...</td>\n",
       "      <td>3.124896</td>\n",
       "    </tr>\n",
       "    <tr>\n",
       "      <th>120</th>\n",
       "      <td>2.319788</td>\n",
       "      <td>1.0</td>\n",
       "      <td>POLYGON ((917328.038 121407.339, 917328.038 12...</td>\n",
       "      <td>3.076496</td>\n",
       "    </tr>\n",
       "    <tr>\n",
       "      <th>121</th>\n",
       "      <td>2.813901</td>\n",
       "      <td>0.0</td>\n",
       "      <td>POLYGON ((917369.525 121427.689, 917369.525 12...</td>\n",
       "      <td>3.057615</td>\n",
       "    </tr>\n",
       "    <tr>\n",
       "      <th>122</th>\n",
       "      <td>2.749218</td>\n",
       "      <td>0.0</td>\n",
       "      <td>POLYGON ((917409.292 121438.156, 917409.292 12...</td>\n",
       "      <td>3.019423</td>\n",
       "    </tr>\n",
       "    <tr>\n",
       "      <th>123</th>\n",
       "      <td>2.687442</td>\n",
       "      <td>0.0</td>\n",
       "      <td>POLYGON ((917449.06 121448.623, 917449.06 1213...</td>\n",
       "      <td>3.027145</td>\n",
       "    </tr>\n",
       "    <tr>\n",
       "      <th>...</th>\n",
       "      <td>...</td>\n",
       "      <td>...</td>\n",
       "      <td>...</td>\n",
       "      <td>...</td>\n",
       "    </tr>\n",
       "    <tr>\n",
       "      <th>1328293</th>\n",
       "      <td>1.445994</td>\n",
       "      <td>0.0</td>\n",
       "      <td>POLYGON ((1060434.037 218565.077, 1060434.037 ...</td>\n",
       "      <td>1.850419</td>\n",
       "    </tr>\n",
       "    <tr>\n",
       "      <th>1328296</th>\n",
       "      <td>36.139474</td>\n",
       "      <td>0.0</td>\n",
       "      <td>POLYGON ((1060726.096 218565.689, 1060726.096 ...</td>\n",
       "      <td>1.929731</td>\n",
       "    </tr>\n",
       "    <tr>\n",
       "      <th>1328297</th>\n",
       "      <td>1.610776</td>\n",
       "      <td>0.0</td>\n",
       "      <td>POLYGON ((1060697.09 218526.181, 1060697.09 21...</td>\n",
       "      <td>6.245819</td>\n",
       "    </tr>\n",
       "    <tr>\n",
       "      <th>1328298</th>\n",
       "      <td>1.568526</td>\n",
       "      <td>11.0</td>\n",
       "      <td>POLYGON ((1060668.084 218486.672, 1060668.084 ...</td>\n",
       "      <td>6.064507</td>\n",
       "    </tr>\n",
       "    <tr>\n",
       "      <th>1328299</th>\n",
       "      <td>1.568526</td>\n",
       "      <td>0.0</td>\n",
       "      <td>POLYGON ((1060639.079 218447.163, 1060639.079 ...</td>\n",
       "      <td>1.777949</td>\n",
       "    </tr>\n",
       "  </tbody>\n",
       "</table>\n",
       "<p>1017120 rows × 4 columns</p>\n",
       "</div>"
      ],
      "text/plain": [
       "         claustrophobia_median  total_collisions  \\\n",
       "119                   2.275649               0.0   \n",
       "120                   2.319788               1.0   \n",
       "121                   2.813901               0.0   \n",
       "122                   2.749218               0.0   \n",
       "123                   2.687442               0.0   \n",
       "...                        ...               ...   \n",
       "1328293               1.445994               0.0   \n",
       "1328296              36.139474               0.0   \n",
       "1328297               1.610776               0.0   \n",
       "1328298               1.568526              11.0   \n",
       "1328299               1.568526               0.0   \n",
       "\n",
       "                                                  geometry  \\\n",
       "119      POLYGON ((917337.741 121366.645, 917337.741 12...   \n",
       "120      POLYGON ((917328.038 121407.339, 917328.038 12...   \n",
       "121      POLYGON ((917369.525 121427.689, 917369.525 12...   \n",
       "122      POLYGON ((917409.292 121438.156, 917409.292 12...   \n",
       "123      POLYGON ((917449.06 121448.623, 917449.06 1213...   \n",
       "...                                                    ...   \n",
       "1328293  POLYGON ((1060434.037 218565.077, 1060434.037 ...   \n",
       "1328296  POLYGON ((1060726.096 218565.689, 1060726.096 ...   \n",
       "1328297  POLYGON ((1060697.09 218526.181, 1060697.09 21...   \n",
       "1328298  POLYGON ((1060668.084 218486.672, 1060668.084 ...   \n",
       "1328299  POLYGON ((1060639.079 218447.163, 1060639.079 ...   \n",
       "\n",
       "         w_claustrophobia_median  \n",
       "119                     3.124896  \n",
       "120                     3.076496  \n",
       "121                     3.057615  \n",
       "122                     3.019423  \n",
       "123                     3.027145  \n",
       "...                          ...  \n",
       "1328293                 1.850419  \n",
       "1328296                 1.929731  \n",
       "1328297                 6.245819  \n",
       "1328298                 6.064507  \n",
       "1328299                 1.777949  \n",
       "\n",
       "[1017120 rows x 4 columns]"
      ]
     },
     "execution_count": 39,
     "metadata": {},
     "output_type": "execute_result"
    }
   ],
   "source": [
    "lagged"
   ]
  },
  {
   "cell_type": "code",
   "execution_count": 41,
   "id": "bda5b133",
   "metadata": {},
   "outputs": [
    {
     "name": "stdout",
     "output_type": "stream",
     "text": [
      "REGRESSION RESULTS\n",
      "------------------\n",
      "\n",
      "SUMMARY OF OUTPUT: ORDINARY LEAST SQUARES\n",
      "-----------------------------------------\n",
      "Data set            :     unknown\n",
      "Weights matrix      :     unknown\n",
      "Dependent Variable  :total_collisions                Number of Observations:     1017120\n",
      "Mean dependent var  :      1.9148                Number of Variables   :           3\n",
      "S.D. dependent var  :     12.7571                Degrees of Freedom    :     1017117\n",
      "R-squared           :      0.0015\n",
      "Adjusted R-squared  :      0.0015\n",
      "Sum squared residual: 1.65276e+08                F-statistic           :    781.6881\n",
      "Sigma-square        :     162.495                Prob(F-statistic)     :           0\n",
      "S.E. of regression  :      12.747                Log likelihood        :-4032127.523\n",
      "Sigma-square ML     :     162.494                Akaike info criterion : 8064261.046\n",
      "S.E of regression ML:     12.7473                Schwarz criterion     : 8064296.543\n",
      "\n",
      "------------------------------------------------------------------------------------\n",
      "            Variable     Coefficient       Std.Error     t-Statistic     Probability\n",
      "------------------------------------------------------------------------------------\n",
      "            CONSTANT         1.72943         0.01359       127.22201         0.00000\n",
      "claustrophobia_median         0.01014         0.00083        12.27665         0.00000\n",
      "w_claustrophobia_median         0.01431         0.00109        13.14333         0.00000\n",
      "------------------------------------------------------------------------------------\n",
      "\n",
      "REGRESSION DIAGNOSTICS\n",
      "MULTICOLLINEARITY CONDITION NUMBER           3.327\n",
      "\n",
      "TEST ON NORMALITY OF ERRORS\n",
      "TEST                             DF        VALUE           PROB\n",
      "Jarque-Bera                       2 23956911198.383           0.0000\n",
      "\n",
      "DIAGNOSTICS FOR HETEROSKEDASTICITY\n",
      "RANDOM COEFFICIENTS\n",
      "TEST                             DF        VALUE           PROB\n",
      "Breusch-Pagan test                2      49697.229           0.0000\n",
      "Koenker-Bassett test              2        132.047           0.0000\n",
      "================================ END OF REPORT =====================================\n"
     ]
    }
   ],
   "source": [
    "extended_vars = explanatory_vars + ['w_claustrophobia_median']\n",
    "m2 = spreg.OLS(lagged[['total_collisions']].values, lagged[extended_vars].values, name_y='total_collisions', name_x=extended_vars, w=w)\n",
    "print(m2.summary)"
   ]
  },
  {
   "cell_type": "code",
   "execution_count": null,
   "id": "9d9c896c",
   "metadata": {},
   "outputs": [],
   "source": []
  }
 ],
 "metadata": {
  "kernelspec": {
   "display_name": "Python 3",
   "language": "python",
   "name": "python3"
  },
  "language_info": {
   "codemirror_mode": {
    "name": "ipython",
    "version": 3
   },
   "file_extension": ".py",
   "mimetype": "text/x-python",
   "name": "python",
   "nbconvert_exporter": "python",
   "pygments_lexer": "ipython3",
   "version": "3.12.9"
  }
 },
 "nbformat": 4,
 "nbformat_minor": 5
}
