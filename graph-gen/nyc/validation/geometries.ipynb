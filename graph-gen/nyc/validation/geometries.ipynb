{
 "cells": [
  {
   "cell_type": "code",
   "execution_count": 1,
   "metadata": {},
   "outputs": [],
   "source": [
    "import geopandas as gpd"
   ]
  },
  {
   "cell_type": "code",
   "execution_count": 2,
   "metadata": {},
   "outputs": [],
   "source": [
    "ct_nyc = gpd.read_file('../../../data/nyc/geo/ct-nyc-2020.geojson')"
   ]
  },
  {
   "cell_type": "code",
   "execution_count": 3,
   "metadata": {},
   "outputs": [],
   "source": [
    "sw_nyc = gpd.read_parquet('../../../data/nyc/processed/sidewalkwidths_nyc.parquet').to_crs(ct_nyc.crs)"
   ]
  },
  {
   "cell_type": "code",
   "execution_count": 4,
   "metadata": {},
   "outputs": [
    {
     "data": {
      "text/plain": [
       "<Geographic 2D CRS: EPSG:4326>\n",
       "Name: WGS 84\n",
       "Axis Info [ellipsoidal]:\n",
       "- Lat[north]: Geodetic latitude (degree)\n",
       "- Lon[east]: Geodetic longitude (degree)\n",
       "Area of Use:\n",
       "- name: World.\n",
       "- bounds: (-180.0, -90.0, 180.0, 90.0)\n",
       "Datum: World Geodetic System 1984 ensemble\n",
       "- Ellipsoid: WGS 84\n",
       "- Prime Meridian: Greenwich"
      ]
     },
     "execution_count": 4,
     "metadata": {},
     "output_type": "execute_result"
    }
   ],
   "source": [
    "sw_nyc.crs"
   ]
  },
  {
   "cell_type": "code",
   "execution_count": 5,
   "metadata": {},
   "outputs": [],
   "source": [
    "N = 10 \n",
    "# randomly sample N census tracts \n",
    "validation_tracts = ct_nyc.sample(N, random_state=777)\n",
    "validation_tracts = gpd.GeoDataFrame(validation_tracts, crs=ct_nyc.crs, geometry='geometry')"
   ]
  },
  {
   "cell_type": "code",
   "execution_count": 6,
   "metadata": {},
   "outputs": [
    {
     "data": {
      "text/plain": [
       "<Geographic 2D CRS: EPSG:4326>\n",
       "Name: WGS 84\n",
       "Axis Info [ellipsoidal]:\n",
       "- Lat[north]: Geodetic latitude (degree)\n",
       "- Lon[east]: Geodetic longitude (degree)\n",
       "Area of Use:\n",
       "- name: World.\n",
       "- bounds: (-180.0, -90.0, 180.0, 90.0)\n",
       "Datum: World Geodetic System 1984 ensemble\n",
       "- Ellipsoid: WGS 84\n",
       "- Prime Meridian: Greenwich"
      ]
     },
     "execution_count": 6,
     "metadata": {},
     "output_type": "execute_result"
    }
   ],
   "source": [
    "gpd.GeoDataFrame(validation_tracts.iloc[0,:]).T.set_geometry('geometry').set_crs(validation_tracts.crs, allow_override=True).crs"
   ]
  },
  {
   "cell_type": "code",
   "execution_count": 7,
   "metadata": {},
   "outputs": [],
   "source": [
    "# write a function that takes a census tract geometry, clips another gdf to it, and writes both to an output directory with BoroCT2020_NTAName_datetime.parquet \n",
    "def clip_and_write(tract, sidewalk_widths, output_dir):\n",
    "\n",
    "    # sanity check: both geodataframes should be in the same CRS\n",
    "    if tract.crs != sidewalk_widths.crs:\n",
    "        raise ValueError(f\"CRS of the two GeoDataFrames do not match, {tract.crs} != {sidewalk_widths.crs}\")\n",
    "    # check if the tract is empty\n",
    "    if tract.is_empty.any():\n",
    "        raise ValueError(\"The tract geometry is empty.\")\n",
    "    # check if the sidewalk widths are empty\n",
    "    if sidewalk_widths.is_empty.any():\n",
    "        raise ValueError(\"The sidewalk widths geometry is empty.\")\n",
    "    \n",
    "    # make the output dir \n",
    "    import os\n",
    "    if not os.path.exists(output_dir):\n",
    "        os.makedirs(output_dir)\n",
    "\n",
    "    # clip the sidewalk widths to the tract geometry\n",
    "    clipped_sidewalks = sidewalk_widths.clip(tract.geometry)\n",
    "    \n",
    "    # get the BoroCT2020 and NTAName from the tract\n",
    "    boro_ct = tract.BoroCT2020.values[0]\n",
    "    nta_name = tract.NTAName.values[0]\n",
    "    \n",
    "    # get the current datetime\n",
    "    from datetime import datetime\n",
    "    now = datetime.now().strftime('%Y%m%d_%H%M%S')\n",
    "    \n",
    "    # create the output filename\n",
    "    output_filename = f\"{boro_ct}_{nta_name}_{now}.parquet\"\n",
    "    \n",
    "    # write both the tract and clipped sidewalk widths to parquet files\n",
    "    tract.to_parquet(f\"{output_dir}/tract_{output_filename}\")\n",
    "    clipped_sidewalks.to_parquet(f\"{output_dir}/sidewalks_{output_filename}\")"
   ]
  },
  {
   "cell_type": "code",
   "execution_count": 8,
   "metadata": {},
   "outputs": [
    {
     "data": {
      "text/plain": [
       "1054    None\n",
       "661     None\n",
       "1996    None\n",
       "2069    None\n",
       "1884    None\n",
       "519     None\n",
       "1138    None\n",
       "98      None\n",
       "648     None\n",
       "1993    None\n",
       "dtype: object"
      ]
     },
     "execution_count": 8,
     "metadata": {},
     "output_type": "execute_result"
    }
   ],
   "source": [
    "# use clip_and_write on each tract \n",
    "validation_tracts.apply(lambda x: clip_and_write(gpd.GeoDataFrame(x).T.set_geometry('geometry').set_crs(validation_tracts.crs), sw_nyc, './tracts'), axis=1)"
   ]
  },
  {
   "cell_type": "code",
   "execution_count": null,
   "metadata": {},
   "outputs": [],
   "source": []
  }
 ],
 "metadata": {
  "kernelspec": {
   "display_name": "Python 3",
   "language": "python",
   "name": "python3"
  },
  "language_info": {
   "codemirror_mode": {
    "name": "ipython",
    "version": 3
   },
   "file_extension": ".py",
   "mimetype": "text/x-python",
   "name": "python",
   "nbconvert_exporter": "python",
   "pygments_lexer": "ipython3",
   "version": "3.12.9"
  }
 },
 "nbformat": 4,
 "nbformat_minor": 2
}
